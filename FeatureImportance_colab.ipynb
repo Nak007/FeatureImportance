{
 "cells": [
  {
   "cell_type": "markdown",
   "metadata": {
    "id": "lX0UM9qPPTVa"
   },
   "source": [
    "### Google.colab\n",
    "Only execute this cell when use on google colab platform (colab)."
   ]
  },
  {
   "cell_type": "markdown",
   "metadata": {
    "id": "uecRy_3DPTVc"
   },
   "source": [
    "<table class=\"tfo-notebook-buttons\" align=\"left\">\n",
    "  <td>\n",
    "    <a target=\"_blank\" href=\"https://github.com/Nak007/FeatureImportance\">\n",
    "    <img src=\"https://www.tensorflow.org/images/GitHub-Mark-32px.png\" />View source on GitHub</a>\n",
    "  </td>\n",
    "</table>"
   ]
  },
  {
   "cell_type": "markdown",
   "metadata": {
    "id": "WctsMiqLPTVd"
   },
   "source": [
    "Mount with google drive."
   ]
  },
  {
   "cell_type": "code",
   "execution_count": null,
   "metadata": {
    "colab": {
     "base_uri": "https://localhost:8080/"
    },
    "executionInfo": {
     "elapsed": 25883,
     "status": "ok",
     "timestamp": 1625548524345,
     "user": {
      "displayName": "Danusorn Sitdhirasdr",
      "photoUrl": "",
      "userId": "00479571870945710380"
     },
     "user_tz": -420
    },
    "id": "IRLShcFwPTVd",
    "outputId": "92b1c1ef-a39d-401e-f714-b6eec119bec0"
   },
   "outputs": [],
   "source": [
    "from google.colab import drive\n",
    "drive.mount('/content/dirve')\n",
    "\n",
    "# Import other libraries required.\n",
    "!git clone 'http://github.com/Nak007/FeatureImportance.git'"
   ]
  },
  {
   "cell_type": "code",
   "execution_count": 1,
   "metadata": {
    "cellView": "form",
    "id": "7wlvQW5llskV"
   },
   "outputs": [],
   "source": [
    "import pandas as pd, numpy as np, sys\n",
    "import matplotlib.pyplot as plt\n",
    "pd.options.display.float_format = '{:,.4f}'.format\n",
    "\n",
    "# scikit-learn library\n",
    "from sklearn.ensemble import RandomForestClassifier as rf\n",
    "from sklearn.datasets import make_classification\n",
    "\n",
    "sys.path.append('/content/FeatureImportance')\n",
    "from FeatureImportance import *"
   ]
  },
  {
   "cell_type": "markdown",
   "metadata": {
    "id": "85nNZqYnhmhp"
   },
   "source": [
    "### <font color=\"green\" size=5> Make classification data </font>\n",
    "\n",
    "Generate a random n-class classification problem. [Reference](https://scikit-learn.org/stable/modules/generated/sklearn.datasets.make_classification.html)"
   ]
  },
  {
   "cell_type": "code",
   "execution_count": 2,
   "metadata": {
    "executionInfo": {
     "elapsed": 301,
     "status": "ok",
     "timestamp": 1625548542284,
     "user": {
      "displayName": "Danusorn Sitdhirasdr",
      "photoUrl": "",
      "userId": "00479571870945710380"
     },
     "user_tz": -420
    },
    "id": "j017hDovd7WM"
   },
   "outputs": [],
   "source": [
    "X, y = make_classification(n_samples     = 10000, \n",
    "                           n_features    = 20, \n",
    "                           n_informative = 10, \n",
    "                           n_redundant   = 10, \n",
    "                           random_state  = 0, \n",
    "                           shuffle       = True, \n",
    "                           n_classes     = 2, \n",
    "                           weights       = [0.7,0.3])\n",
    "\n",
    "X = pd.DataFrame(X, columns=[\"feature_\" + str(n).zfill(2) \n",
    "                             for n in range(1,X.shape[1]+1)]) "
   ]
  },
  {
   "cell_type": "code",
   "execution_count": 3,
   "metadata": {
    "executionInfo": {
     "elapsed": 1057,
     "status": "ok",
     "timestamp": 1614135113658,
     "user": {
      "displayName": "Danusorn Sitdhirasdr",
      "photoUrl": "",
      "userId": "00479571870945710380"
     },
     "user_tz": -420
    },
    "id": "ai5waUCJyG_-"
   },
   "outputs": [],
   "source": [
    "kwargs = {\"random_state\": 0, \n",
    "          \"n_estimators\": 50, \n",
    "          \"n_jobs\"      : -1, \n",
    "          \"max_depth\"   : 7, \n",
    "          \"max_features\": \"sqrt\"}\n",
    "clf = rf(**kwargs).fit(X, y)"
   ]
  },
  {
   "cell_type": "markdown",
   "metadata": {
    "id": "eAnPucqpfGLe"
   },
   "source": [
    "**Importance Values**\n",
    "- sklearn (average decrease in impurity or Information Gain)\n",
    "- Directional Feature Contributions (DFC)\n",
    "- Permute variable (Permutation Importance)\n",
    "- Drop variable (Drop-Column Importance)"
   ]
  },
  {
   "cell_type": "code",
   "execution_count": 22,
   "metadata": {},
   "outputs": [],
   "source": [
    "model = FeatureImportance().fit(clf, X, y)"
   ]
  },
  {
   "cell_type": "code",
   "execution_count": 23,
   "metadata": {},
   "outputs": [
    {
     "data": {
      "text/html": [
       "<div>\n",
       "<style scoped>\n",
       "    .dataframe tbody tr th:only-of-type {\n",
       "        vertical-align: middle;\n",
       "    }\n",
       "\n",
       "    .dataframe tbody tr th {\n",
       "        vertical-align: top;\n",
       "    }\n",
       "\n",
       "    .dataframe thead th {\n",
       "        text-align: right;\n",
       "    }\n",
       "</style>\n",
       "<table border=\"1\" class=\"dataframe\">\n",
       "  <thead>\n",
       "    <tr style=\"text-align: right;\">\n",
       "      <th></th>\n",
       "      <th>gain_score</th>\n",
       "      <th>dfc_score</th>\n",
       "      <th>permute_score</th>\n",
       "      <th>drop_score</th>\n",
       "      <th>mean_score</th>\n",
       "    </tr>\n",
       "    <tr>\n",
       "      <th>features</th>\n",
       "      <th></th>\n",
       "      <th></th>\n",
       "      <th></th>\n",
       "      <th></th>\n",
       "      <th></th>\n",
       "    </tr>\n",
       "  </thead>\n",
       "  <tbody>\n",
       "    <tr>\n",
       "      <th>feature_02</th>\n",
       "      <td>0.1037</td>\n",
       "      <td>0.0965</td>\n",
       "      <td>0.1675</td>\n",
       "      <td>0.1794</td>\n",
       "      <td>0.1672</td>\n",
       "    </tr>\n",
       "    <tr>\n",
       "      <th>feature_13</th>\n",
       "      <td>0.0704</td>\n",
       "      <td>0.0954</td>\n",
       "      <td>0.1218</td>\n",
       "      <td>0.1300</td>\n",
       "      <td>0.1276</td>\n",
       "    </tr>\n",
       "    <tr>\n",
       "      <th>feature_08</th>\n",
       "      <td>0.1081</td>\n",
       "      <td>0.1220</td>\n",
       "      <td>0.1126</td>\n",
       "      <td>0.0083</td>\n",
       "      <td>0.1072</td>\n",
       "    </tr>\n",
       "    <tr>\n",
       "      <th>feature_01</th>\n",
       "      <td>0.0660</td>\n",
       "      <td>0.0864</td>\n",
       "      <td>0.0840</td>\n",
       "      <td>0.0971</td>\n",
       "      <td>0.1019</td>\n",
       "    </tr>\n",
       "    <tr>\n",
       "      <th>feature_20</th>\n",
       "      <td>0.0703</td>\n",
       "      <td>0.0810</td>\n",
       "      <td>0.0596</td>\n",
       "      <td>0.0898</td>\n",
       "      <td>0.0919</td>\n",
       "    </tr>\n",
       "    <tr>\n",
       "      <th>feature_17</th>\n",
       "      <td>0.0543</td>\n",
       "      <td>0.0473</td>\n",
       "      <td>0.0607</td>\n",
       "      <td>0.0219</td>\n",
       "      <td>0.0562</td>\n",
       "    </tr>\n",
       "    <tr>\n",
       "      <th>feature_07</th>\n",
       "      <td>0.0540</td>\n",
       "      <td>0.0583</td>\n",
       "      <td>0.0453</td>\n",
       "      <td>0.0143</td>\n",
       "      <td>0.0525</td>\n",
       "    </tr>\n",
       "    <tr>\n",
       "      <th>feature_10</th>\n",
       "      <td>0.0437</td>\n",
       "      <td>0.0304</td>\n",
       "      <td>0.0406</td>\n",
       "      <td>0.0433</td>\n",
       "      <td>0.0483</td>\n",
       "    </tr>\n",
       "    <tr>\n",
       "      <th>feature_04</th>\n",
       "      <td>0.0487</td>\n",
       "      <td>0.0426</td>\n",
       "      <td>0.0481</td>\n",
       "      <td>0.0134</td>\n",
       "      <td>0.0467</td>\n",
       "    </tr>\n",
       "    <tr>\n",
       "      <th>feature_14</th>\n",
       "      <td>0.0434</td>\n",
       "      <td>0.0582</td>\n",
       "      <td>0.0340</td>\n",
       "      <td>-0.0084</td>\n",
       "      <td>0.0389</td>\n",
       "    </tr>\n",
       "  </tbody>\n",
       "</table>\n",
       "</div>"
      ],
      "text/plain": [
       "            gain_score  dfc_score  permute_score  drop_score  mean_score\n",
       "features                                                                \n",
       "feature_02      0.1037     0.0965         0.1675      0.1794      0.1672\n",
       "feature_13      0.0704     0.0954         0.1218      0.1300      0.1276\n",
       "feature_08      0.1081     0.1220         0.1126      0.0083      0.1072\n",
       "feature_01      0.0660     0.0864         0.0840      0.0971      0.1019\n",
       "feature_20      0.0703     0.0810         0.0596      0.0898      0.0919\n",
       "feature_17      0.0543     0.0473         0.0607      0.0219      0.0562\n",
       "feature_07      0.0540     0.0583         0.0453      0.0143      0.0525\n",
       "feature_10      0.0437     0.0304         0.0406      0.0433      0.0483\n",
       "feature_04      0.0487     0.0426         0.0481      0.0134      0.0467\n",
       "feature_14      0.0434     0.0582         0.0340     -0.0084      0.0389"
      ]
     },
     "execution_count": 23,
     "metadata": {},
     "output_type": "execute_result"
    }
   ],
   "source": [
    "model.info.head(10)"
   ]
  },
  {
   "cell_type": "code",
   "execution_count": 36,
   "metadata": {},
   "outputs": [
    {
     "data": {
      "image/png": "[encoded data removed]",
      "text/plain": [
       "<Figure size 576x475.2 with 1 Axes>"
      ]
     },
     "metadata": {
      "needs_background": "light"
     },
     "output_type": "display_data"
    }
   ],
   "source": [
    "ax = model.plotting(max_display=12, column=\"drop_score\")"
   ]
  },
  {
   "cell_type": "code",
   "execution_count": null,
   "metadata": {},
   "outputs": [],
   "source": []
  }
 ],
 "metadata": {
  "colab": {
   "collapsed_sections": [],
   "name": "model_hcode_r1.ipynb",
   "provenance": []
  },
  "kernelspec": {
   "display_name": "Python 3 (ipykernel)",
   "language": "python",
   "name": "python3"
  },
  "language_info": {
   "codemirror_mode": {
    "name": "ipython",
    "version": 3
   },
   "file_extension": ".py",
   "mimetype": "text/x-python",
   "name": "python",
   "nbconvert_exporter": "python",
   "pygments_lexer": "ipython3",
   "version": "3.10.1"
  }
 },
 "nbformat": 4,
 "nbformat_minor": 1
}
